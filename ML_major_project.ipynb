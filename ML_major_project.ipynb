{
  "nbformat": 4,
  "nbformat_minor": 0,
  "metadata": {
    "colab": {
      "provenance": [],
      "authorship_tag": "ABX9TyPjzPmkZ/gjZZ2IoPGEXtKt",
      "include_colab_link": true
    },
    "kernelspec": {
      "name": "python3",
      "display_name": "Python 3"
    },
    "language_info": {
      "name": "python"
    }
  },
  "cells": [
    {
      "cell_type": "markdown",
      "metadata": {
        "id": "view-in-github",
        "colab_type": "text"
      },
      "source": [
        "<a href=\"https://colab.research.google.com/github/Mansik542/heart-disease-prediction/blob/main/ML_major_project.ipynb\" target=\"_parent\"><img src=\"https://colab.research.google.com/assets/colab-badge.svg\" alt=\"Open In Colab\"/></a>"
      ]
    },
    {
      "cell_type": "code",
      "execution_count": null,
      "metadata": {
        "id": "QIpxFXPbU_VU"
      },
      "outputs": [],
      "source": [
        "#HEART DISEASE\n",
        "#dataset - https://raw.githubusercontent.com/ameenmanna8824/DATASETS/main/heart_disease.csv"
      ]
    },
    {
      "cell_type": "code",
      "source": [
        "#1.Take the data and create dataframe\n",
        "import pandas as pd\n",
        "df = pd.read_csv('https://raw.githubusercontent.com/ameenmanna8824/DATASETS/main/heart_disease.csv')\n",
        "df"
      ],
      "metadata": {
        "colab": {
          "base_uri": "https://localhost:8080/",
          "height": 424
        },
        "id": "wixWxQJMW5HK",
        "outputId": "69105938-1ffd-428d-8711-db1b2c4b14e3"
      },
      "execution_count": null,
      "outputs": [
        {
          "output_type": "execute_result",
          "data": {
            "text/plain": [
              "     Unnamed: 0  age  sex  cp  trestbps  chol  fbs  restecg  thalach  exang  \\\n",
              "0             0   63    1   3       145   233    1        0      150      0   \n",
              "1             1   37    1   2       130   250    0        1      187      0   \n",
              "2             2   41    0   1       130   204    0        0      172      0   \n",
              "3             3   56    1   1       120   236    0        1      178      0   \n",
              "4             4   57    0   0       120   354    0        1      163      1   \n",
              "..          ...  ...  ...  ..       ...   ...  ...      ...      ...    ...   \n",
              "298         298   57    0   0       140   241    0        1      123      1   \n",
              "299         299   45    1   3       110   264    0        1      132      0   \n",
              "300         300   68    1   0       144   193    1        1      141      0   \n",
              "301         301   57    1   0       130   131    0        1      115      1   \n",
              "302         302   57    0   1       130   236    0        0      174      0   \n",
              "\n",
              "     oldpeak  slope  ca  thal  target  \n",
              "0        2.3      0   0     1       1  \n",
              "1        3.5      0   0     2       1  \n",
              "2        1.4      2   0     2       1  \n",
              "3        0.8      2   0     2       1  \n",
              "4        0.6      2   0     2       1  \n",
              "..       ...    ...  ..   ...     ...  \n",
              "298      0.2      1   0     3       0  \n",
              "299      1.2      1   0     3       0  \n",
              "300      3.4      1   2     3       0  \n",
              "301      1.2      1   1     3       0  \n",
              "302      0.0      1   1     2       0  \n",
              "\n",
              "[303 rows x 15 columns]"
            ],
            "text/html": [
              "\n",
              "  <div id=\"df-1fe07e0f-b33c-4beb-98a6-b2783173b4bb\">\n",
              "    <div class=\"colab-df-container\">\n",
              "      <div>\n",
              "<style scoped>\n",
              "    .dataframe tbody tr th:only-of-type {\n",
              "        vertical-align: middle;\n",
              "    }\n",
              "\n",
              "    .dataframe tbody tr th {\n",
              "        vertical-align: top;\n",
              "    }\n",
              "\n",
              "    .dataframe thead th {\n",
              "        text-align: right;\n",
              "    }\n",
              "</style>\n",
              "<table border=\"1\" class=\"dataframe\">\n",
              "  <thead>\n",
              "    <tr style=\"text-align: right;\">\n",
              "      <th></th>\n",
              "      <th>Unnamed: 0</th>\n",
              "      <th>age</th>\n",
              "      <th>sex</th>\n",
              "      <th>cp</th>\n",
              "      <th>trestbps</th>\n",
              "      <th>chol</th>\n",
              "      <th>fbs</th>\n",
              "      <th>restecg</th>\n",
              "      <th>thalach</th>\n",
              "      <th>exang</th>\n",
              "      <th>oldpeak</th>\n",
              "      <th>slope</th>\n",
              "      <th>ca</th>\n",
              "      <th>thal</th>\n",
              "      <th>target</th>\n",
              "    </tr>\n",
              "  </thead>\n",
              "  <tbody>\n",
              "    <tr>\n",
              "      <th>0</th>\n",
              "      <td>0</td>\n",
              "      <td>63</td>\n",
              "      <td>1</td>\n",
              "      <td>3</td>\n",
              "      <td>145</td>\n",
              "      <td>233</td>\n",
              "      <td>1</td>\n",
              "      <td>0</td>\n",
              "      <td>150</td>\n",
              "      <td>0</td>\n",
              "      <td>2.3</td>\n",
              "      <td>0</td>\n",
              "      <td>0</td>\n",
              "      <td>1</td>\n",
              "      <td>1</td>\n",
              "    </tr>\n",
              "    <tr>\n",
              "      <th>1</th>\n",
              "      <td>1</td>\n",
              "      <td>37</td>\n",
              "      <td>1</td>\n",
              "      <td>2</td>\n",
              "      <td>130</td>\n",
              "      <td>250</td>\n",
              "      <td>0</td>\n",
              "      <td>1</td>\n",
              "      <td>187</td>\n",
              "      <td>0</td>\n",
              "      <td>3.5</td>\n",
              "      <td>0</td>\n",
              "      <td>0</td>\n",
              "      <td>2</td>\n",
              "      <td>1</td>\n",
              "    </tr>\n",
              "    <tr>\n",
              "      <th>2</th>\n",
              "      <td>2</td>\n",
              "      <td>41</td>\n",
              "      <td>0</td>\n",
              "      <td>1</td>\n",
              "      <td>130</td>\n",
              "      <td>204</td>\n",
              "      <td>0</td>\n",
              "      <td>0</td>\n",
              "      <td>172</td>\n",
              "      <td>0</td>\n",
              "      <td>1.4</td>\n",
              "      <td>2</td>\n",
              "      <td>0</td>\n",
              "      <td>2</td>\n",
              "      <td>1</td>\n",
              "    </tr>\n",
              "    <tr>\n",
              "      <th>3</th>\n",
              "      <td>3</td>\n",
              "      <td>56</td>\n",
              "      <td>1</td>\n",
              "      <td>1</td>\n",
              "      <td>120</td>\n",
              "      <td>236</td>\n",
              "      <td>0</td>\n",
              "      <td>1</td>\n",
              "      <td>178</td>\n",
              "      <td>0</td>\n",
              "      <td>0.8</td>\n",
              "      <td>2</td>\n",
              "      <td>0</td>\n",
              "      <td>2</td>\n",
              "      <td>1</td>\n",
              "    </tr>\n",
              "    <tr>\n",
              "      <th>4</th>\n",
              "      <td>4</td>\n",
              "      <td>57</td>\n",
              "      <td>0</td>\n",
              "      <td>0</td>\n",
              "      <td>120</td>\n",
              "      <td>354</td>\n",
              "      <td>0</td>\n",
              "      <td>1</td>\n",
              "      <td>163</td>\n",
              "      <td>1</td>\n",
              "      <td>0.6</td>\n",
              "      <td>2</td>\n",
              "      <td>0</td>\n",
              "      <td>2</td>\n",
              "      <td>1</td>\n",
              "    </tr>\n",
              "    <tr>\n",
              "      <th>...</th>\n",
              "      <td>...</td>\n",
              "      <td>...</td>\n",
              "      <td>...</td>\n",
              "      <td>...</td>\n",
              "      <td>...</td>\n",
              "      <td>...</td>\n",
              "      <td>...</td>\n",
              "      <td>...</td>\n",
              "      <td>...</td>\n",
              "      <td>...</td>\n",
              "      <td>...</td>\n",
              "      <td>...</td>\n",
              "      <td>...</td>\n",
              "      <td>...</td>\n",
              "      <td>...</td>\n",
              "    </tr>\n",
              "    <tr>\n",
              "      <th>298</th>\n",
              "      <td>298</td>\n",
              "      <td>57</td>\n",
              "      <td>0</td>\n",
              "      <td>0</td>\n",
              "      <td>140</td>\n",
              "      <td>241</td>\n",
              "      <td>0</td>\n",
              "      <td>1</td>\n",
              "      <td>123</td>\n",
              "      <td>1</td>\n",
              "      <td>0.2</td>\n",
              "      <td>1</td>\n",
              "      <td>0</td>\n",
              "      <td>3</td>\n",
              "      <td>0</td>\n",
              "    </tr>\n",
              "    <tr>\n",
              "      <th>299</th>\n",
              "      <td>299</td>\n",
              "      <td>45</td>\n",
              "      <td>1</td>\n",
              "      <td>3</td>\n",
              "      <td>110</td>\n",
              "      <td>264</td>\n",
              "      <td>0</td>\n",
              "      <td>1</td>\n",
              "      <td>132</td>\n",
              "      <td>0</td>\n",
              "      <td>1.2</td>\n",
              "      <td>1</td>\n",
              "      <td>0</td>\n",
              "      <td>3</td>\n",
              "      <td>0</td>\n",
              "    </tr>\n",
              "    <tr>\n",
              "      <th>300</th>\n",
              "      <td>300</td>\n",
              "      <td>68</td>\n",
              "      <td>1</td>\n",
              "      <td>0</td>\n",
              "      <td>144</td>\n",
              "      <td>193</td>\n",
              "      <td>1</td>\n",
              "      <td>1</td>\n",
              "      <td>141</td>\n",
              "      <td>0</td>\n",
              "      <td>3.4</td>\n",
              "      <td>1</td>\n",
              "      <td>2</td>\n",
              "      <td>3</td>\n",
              "      <td>0</td>\n",
              "    </tr>\n",
              "    <tr>\n",
              "      <th>301</th>\n",
              "      <td>301</td>\n",
              "      <td>57</td>\n",
              "      <td>1</td>\n",
              "      <td>0</td>\n",
              "      <td>130</td>\n",
              "      <td>131</td>\n",
              "      <td>0</td>\n",
              "      <td>1</td>\n",
              "      <td>115</td>\n",
              "      <td>1</td>\n",
              "      <td>1.2</td>\n",
              "      <td>1</td>\n",
              "      <td>1</td>\n",
              "      <td>3</td>\n",
              "      <td>0</td>\n",
              "    </tr>\n",
              "    <tr>\n",
              "      <th>302</th>\n",
              "      <td>302</td>\n",
              "      <td>57</td>\n",
              "      <td>0</td>\n",
              "      <td>1</td>\n",
              "      <td>130</td>\n",
              "      <td>236</td>\n",
              "      <td>0</td>\n",
              "      <td>0</td>\n",
              "      <td>174</td>\n",
              "      <td>0</td>\n",
              "      <td>0.0</td>\n",
              "      <td>1</td>\n",
              "      <td>1</td>\n",
              "      <td>2</td>\n",
              "      <td>0</td>\n",
              "    </tr>\n",
              "  </tbody>\n",
              "</table>\n",
              "<p>303 rows × 15 columns</p>\n",
              "</div>\n",
              "      <button class=\"colab-df-convert\" onclick=\"convertToInteractive('df-1fe07e0f-b33c-4beb-98a6-b2783173b4bb')\"\n",
              "              title=\"Convert this dataframe to an interactive table.\"\n",
              "              style=\"display:none;\">\n",
              "        \n",
              "  <svg xmlns=\"http://www.w3.org/2000/svg\" height=\"24px\"viewBox=\"0 0 24 24\"\n",
              "       width=\"24px\">\n",
              "    <path d=\"M0 0h24v24H0V0z\" fill=\"none\"/>\n",
              "    <path d=\"M18.56 5.44l.94 2.06.94-2.06 2.06-.94-2.06-.94-.94-2.06-.94 2.06-2.06.94zm-11 1L8.5 8.5l.94-2.06 2.06-.94-2.06-.94L8.5 2.5l-.94 2.06-2.06.94zm10 10l.94 2.06.94-2.06 2.06-.94-2.06-.94-.94-2.06-.94 2.06-2.06.94z\"/><path d=\"M17.41 7.96l-1.37-1.37c-.4-.4-.92-.59-1.43-.59-.52 0-1.04.2-1.43.59L10.3 9.45l-7.72 7.72c-.78.78-.78 2.05 0 2.83L4 21.41c.39.39.9.59 1.41.59.51 0 1.02-.2 1.41-.59l7.78-7.78 2.81-2.81c.8-.78.8-2.07 0-2.86zM5.41 20L4 18.59l7.72-7.72 1.47 1.35L5.41 20z\"/>\n",
              "  </svg>\n",
              "      </button>\n",
              "      \n",
              "  <style>\n",
              "    .colab-df-container {\n",
              "      display:flex;\n",
              "      flex-wrap:wrap;\n",
              "      gap: 12px;\n",
              "    }\n",
              "\n",
              "    .colab-df-convert {\n",
              "      background-color: #E8F0FE;\n",
              "      border: none;\n",
              "      border-radius: 50%;\n",
              "      cursor: pointer;\n",
              "      display: none;\n",
              "      fill: #1967D2;\n",
              "      height: 32px;\n",
              "      padding: 0 0 0 0;\n",
              "      width: 32px;\n",
              "    }\n",
              "\n",
              "    .colab-df-convert:hover {\n",
              "      background-color: #E2EBFA;\n",
              "      box-shadow: 0px 1px 2px rgba(60, 64, 67, 0.3), 0px 1px 3px 1px rgba(60, 64, 67, 0.15);\n",
              "      fill: #174EA6;\n",
              "    }\n",
              "\n",
              "    [theme=dark] .colab-df-convert {\n",
              "      background-color: #3B4455;\n",
              "      fill: #D2E3FC;\n",
              "    }\n",
              "\n",
              "    [theme=dark] .colab-df-convert:hover {\n",
              "      background-color: #434B5C;\n",
              "      box-shadow: 0px 1px 3px 1px rgba(0, 0, 0, 0.15);\n",
              "      filter: drop-shadow(0px 1px 2px rgba(0, 0, 0, 0.3));\n",
              "      fill: #FFFFFF;\n",
              "    }\n",
              "  </style>\n",
              "\n",
              "      <script>\n",
              "        const buttonEl =\n",
              "          document.querySelector('#df-1fe07e0f-b33c-4beb-98a6-b2783173b4bb button.colab-df-convert');\n",
              "        buttonEl.style.display =\n",
              "          google.colab.kernel.accessAllowed ? 'block' : 'none';\n",
              "\n",
              "        async function convertToInteractive(key) {\n",
              "          const element = document.querySelector('#df-1fe07e0f-b33c-4beb-98a6-b2783173b4bb');\n",
              "          const dataTable =\n",
              "            await google.colab.kernel.invokeFunction('convertToInteractive',\n",
              "                                                     [key], {});\n",
              "          if (!dataTable) return;\n",
              "\n",
              "          const docLinkHtml = 'Like what you see? Visit the ' +\n",
              "            '<a target=\"_blank\" href=https://colab.research.google.com/notebooks/data_table.ipynb>data table notebook</a>'\n",
              "            + ' to learn more about interactive tables.';\n",
              "          element.innerHTML = '';\n",
              "          dataTable['output_type'] = 'display_data';\n",
              "          await google.colab.output.renderOutput(dataTable, element);\n",
              "          const docLink = document.createElement('div');\n",
              "          docLink.innerHTML = docLinkHtml;\n",
              "          element.appendChild(docLink);\n",
              "        }\n",
              "      </script>\n",
              "    </div>\n",
              "  </div>\n",
              "  "
            ]
          },
          "metadata": {},
          "execution_count": 352
        }
      ]
    },
    {
      "cell_type": "code",
      "source": [
        "#2.\n",
        "df.shape"
      ],
      "metadata": {
        "colab": {
          "base_uri": "https://localhost:8080/"
        },
        "id": "VpYMiRtdXCrA",
        "outputId": "7e4b9cb3-d151-45e9-c619-971f2a71c5b7"
      },
      "execution_count": null,
      "outputs": [
        {
          "output_type": "execute_result",
          "data": {
            "text/plain": [
              "(303, 15)"
            ]
          },
          "metadata": {},
          "execution_count": 353
        }
      ]
    },
    {
      "cell_type": "code",
      "source": [
        "df.size"
      ],
      "metadata": {
        "colab": {
          "base_uri": "https://localhost:8080/"
        },
        "id": "fpXBFlbsXLuW",
        "outputId": "97ab7570-5f9f-49ee-e81e-45805d685f3b"
      },
      "execution_count": null,
      "outputs": [
        {
          "output_type": "execute_result",
          "data": {
            "text/plain": [
              "4545"
            ]
          },
          "metadata": {},
          "execution_count": 354
        }
      ]
    },
    {
      "cell_type": "code",
      "source": [
        "df.head"
      ],
      "metadata": {
        "colab": {
          "base_uri": "https://localhost:8080/"
        },
        "id": "_swa8-YYuV7w",
        "outputId": "5ee347b3-7e1a-4284-90e5-f281346a2119"
      },
      "execution_count": null,
      "outputs": [
        {
          "output_type": "execute_result",
          "data": {
            "text/plain": [
              "<bound method NDFrame.head of      Unnamed: 0  age  sex  cp  trestbps  chol  fbs  restecg  thalach  exang  \\\n",
              "0             0   63    1   3       145   233    1        0      150      0   \n",
              "1             1   37    1   2       130   250    0        1      187      0   \n",
              "2             2   41    0   1       130   204    0        0      172      0   \n",
              "3             3   56    1   1       120   236    0        1      178      0   \n",
              "4             4   57    0   0       120   354    0        1      163      1   \n",
              "..          ...  ...  ...  ..       ...   ...  ...      ...      ...    ...   \n",
              "298         298   57    0   0       140   241    0        1      123      1   \n",
              "299         299   45    1   3       110   264    0        1      132      0   \n",
              "300         300   68    1   0       144   193    1        1      141      0   \n",
              "301         301   57    1   0       130   131    0        1      115      1   \n",
              "302         302   57    0   1       130   236    0        0      174      0   \n",
              "\n",
              "     oldpeak  slope  ca  thal  target  \n",
              "0        2.3      0   0     1       1  \n",
              "1        3.5      0   0     2       1  \n",
              "2        1.4      2   0     2       1  \n",
              "3        0.8      2   0     2       1  \n",
              "4        0.6      2   0     2       1  \n",
              "..       ...    ...  ..   ...     ...  \n",
              "298      0.2      1   0     3       0  \n",
              "299      1.2      1   0     3       0  \n",
              "300      3.4      1   2     3       0  \n",
              "301      1.2      1   1     3       0  \n",
              "302      0.0      1   1     2       0  \n",
              "\n",
              "[303 rows x 15 columns]>"
            ]
          },
          "metadata": {},
          "execution_count": 355
        }
      ]
    },
    {
      "cell_type": "code",
      "source": [
        "df.info()"
      ],
      "metadata": {
        "colab": {
          "base_uri": "https://localhost:8080/"
        },
        "id": "3xrRuJPpXPJC",
        "outputId": "0bc19004-d499-40bc-d6c4-251860cdde9a"
      },
      "execution_count": null,
      "outputs": [
        {
          "output_type": "stream",
          "name": "stdout",
          "text": [
            "<class 'pandas.core.frame.DataFrame'>\n",
            "RangeIndex: 303 entries, 0 to 302\n",
            "Data columns (total 15 columns):\n",
            " #   Column      Non-Null Count  Dtype  \n",
            "---  ------      --------------  -----  \n",
            " 0   Unnamed: 0  303 non-null    int64  \n",
            " 1   age         303 non-null    int64  \n",
            " 2   sex         303 non-null    int64  \n",
            " 3   cp          303 non-null    int64  \n",
            " 4   trestbps    303 non-null    int64  \n",
            " 5   chol        303 non-null    int64  \n",
            " 6   fbs         303 non-null    int64  \n",
            " 7   restecg     303 non-null    int64  \n",
            " 8   thalach     303 non-null    int64  \n",
            " 9   exang       303 non-null    int64  \n",
            " 10  oldpeak     303 non-null    float64\n",
            " 11  slope       303 non-null    int64  \n",
            " 12  ca          303 non-null    int64  \n",
            " 13  thal        303 non-null    int64  \n",
            " 14  target      303 non-null    int64  \n",
            "dtypes: float64(1), int64(14)\n",
            "memory usage: 35.6 KB\n"
          ]
        }
      ]
    },
    {
      "cell_type": "code",
      "source": [
        "#3.VISUALISATION"
      ],
      "metadata": {
        "id": "uFWKUJInXSbr"
      },
      "execution_count": null,
      "outputs": []
    },
    {
      "cell_type": "code",
      "source": [
        "#4.DIVIDE THE DATA INTO INPUT AND OUTOUT\n",
        "#x is always 2 dimensional\n",
        "x = df.iloc[:,3:6].values\n",
        "x"
      ],
      "metadata": {
        "colab": {
          "base_uri": "https://localhost:8080/"
        },
        "id": "1eataG-PXZ36",
        "outputId": "2caa3532-4ccc-465c-af53-c3ec831a9b9e"
      },
      "execution_count": null,
      "outputs": [
        {
          "output_type": "execute_result",
          "data": {
            "text/plain": [
              "array([[  3, 145, 233],\n",
              "       [  2, 130, 250],\n",
              "       [  1, 130, 204],\n",
              "       [  1, 120, 236],\n",
              "       [  0, 120, 354],\n",
              "       [  0, 140, 192],\n",
              "       [  1, 140, 294],\n",
              "       [  1, 120, 263],\n",
              "       [  2, 172, 199],\n",
              "       [  2, 150, 168],\n",
              "       [  0, 140, 239],\n",
              "       [  2, 130, 275],\n",
              "       [  1, 130, 266],\n",
              "       [  3, 110, 211],\n",
              "       [  3, 150, 283],\n",
              "       [  2, 120, 219],\n",
              "       [  2, 120, 340],\n",
              "       [  3, 150, 226],\n",
              "       [  0, 150, 247],\n",
              "       [  3, 140, 239],\n",
              "       [  0, 135, 234],\n",
              "       [  2, 130, 233],\n",
              "       [  0, 140, 226],\n",
              "       [  2, 150, 243],\n",
              "       [  3, 140, 199],\n",
              "       [  1, 160, 302],\n",
              "       [  2, 150, 212],\n",
              "       [  2, 110, 175],\n",
              "       [  2, 140, 417],\n",
              "       [  2, 130, 197],\n",
              "       [  1, 105, 198],\n",
              "       [  0, 120, 177],\n",
              "       [  1, 130, 219],\n",
              "       [  2, 125, 273],\n",
              "       [  3, 125, 213],\n",
              "       [  2, 142, 177],\n",
              "       [  2, 135, 304],\n",
              "       [  2, 150, 232],\n",
              "       [  2, 155, 269],\n",
              "       [  2, 160, 360],\n",
              "       [  2, 140, 308],\n",
              "       [  1, 130, 245],\n",
              "       [  0, 104, 208],\n",
              "       [  0, 130, 264],\n",
              "       [  2, 140, 321],\n",
              "       [  1, 120, 325],\n",
              "       [  2, 140, 235],\n",
              "       [  2, 138, 257],\n",
              "       [  2, 128, 216],\n",
              "       [  0, 138, 234],\n",
              "       [  2, 130, 256],\n",
              "       [  0, 120, 302],\n",
              "       [  2, 130, 231],\n",
              "       [  2, 108, 141],\n",
              "       [  2, 135, 252],\n",
              "       [  1, 134, 201],\n",
              "       [  0, 122, 222],\n",
              "       [  0, 115, 260],\n",
              "       [  3, 118, 182],\n",
              "       [  0, 128, 303],\n",
              "       [  2, 110, 265],\n",
              "       [  1, 108, 309],\n",
              "       [  3, 118, 186],\n",
              "       [  1, 135, 203],\n",
              "       [  2, 140, 211],\n",
              "       [  0, 138, 183],\n",
              "       [  2, 100, 222],\n",
              "       [  1, 130, 234],\n",
              "       [  1, 120, 220],\n",
              "       [  0, 124, 209],\n",
              "       [  2, 120, 258],\n",
              "       [  2,  94, 227],\n",
              "       [  1, 130, 204],\n",
              "       [  0, 140, 261],\n",
              "       [  2, 122, 213],\n",
              "       [  1, 135, 250],\n",
              "       [  2, 125, 245],\n",
              "       [  1, 140, 221],\n",
              "       [  1, 128, 205],\n",
              "       [  2, 105, 240],\n",
              "       [  2, 112, 250],\n",
              "       [  1, 128, 308],\n",
              "       [  2, 102, 318],\n",
              "       [  3, 152, 298],\n",
              "       [  0, 102, 265],\n",
              "       [  2, 115, 564],\n",
              "       [  2, 118, 277],\n",
              "       [  1, 101, 197],\n",
              "       [  2, 110, 214],\n",
              "       [  0, 100, 248],\n",
              "       [  2, 124, 255],\n",
              "       [  0, 132, 207],\n",
              "       [  2, 138, 223],\n",
              "       [  1, 132, 288],\n",
              "       [  1, 112, 160],\n",
              "       [  0, 142, 226],\n",
              "       [  0, 140, 394],\n",
              "       [  0, 108, 233],\n",
              "       [  2, 130, 315],\n",
              "       [  2, 130, 246],\n",
              "       [  3, 148, 244],\n",
              "       [  3, 178, 270],\n",
              "       [  1, 140, 195],\n",
              "       [  2, 120, 240],\n",
              "       [  2, 129, 196],\n",
              "       [  2, 120, 211],\n",
              "       [  3, 160, 234],\n",
              "       [  0, 138, 236],\n",
              "       [  1, 120, 244],\n",
              "       [  0, 110, 254],\n",
              "       [  0, 180, 325],\n",
              "       [  2, 150, 126],\n",
              "       [  2, 140, 313],\n",
              "       [  0, 110, 211],\n",
              "       [  1, 130, 262],\n",
              "       [  2, 120, 215],\n",
              "       [  2, 130, 214],\n",
              "       [  3, 120, 193],\n",
              "       [  1, 105, 204],\n",
              "       [  0, 138, 243],\n",
              "       [  0, 130, 303],\n",
              "       [  0, 138, 271],\n",
              "       [  2, 112, 268],\n",
              "       [  2, 108, 267],\n",
              "       [  2,  94, 199],\n",
              "       [  1, 118, 210],\n",
              "       [  0, 112, 204],\n",
              "       [  2, 152, 277],\n",
              "       [  2, 136, 196],\n",
              "       [  1, 120, 269],\n",
              "       [  2, 160, 201],\n",
              "       [  1, 134, 271],\n",
              "       [  1, 120, 295],\n",
              "       [  1, 110, 235],\n",
              "       [  1, 126, 306],\n",
              "       [  0, 130, 269],\n",
              "       [  2, 120, 178],\n",
              "       [  1, 128, 208],\n",
              "       [  0, 110, 201],\n",
              "       [  0, 128, 263],\n",
              "       [  2, 120, 295],\n",
              "       [  0, 115, 303],\n",
              "       [  2, 120, 209],\n",
              "       [  0, 106, 223],\n",
              "       [  2, 140, 197],\n",
              "       [  1, 156, 245],\n",
              "       [  2, 118, 242],\n",
              "       [  3, 150, 240],\n",
              "       [  2, 120, 226],\n",
              "       [  2, 130, 180],\n",
              "       [  0, 160, 228],\n",
              "       [  0, 112, 149],\n",
              "       [  3, 170, 227],\n",
              "       [  2, 146, 278],\n",
              "       [  2, 138, 220],\n",
              "       [  0, 130, 197],\n",
              "       [  2, 130, 253],\n",
              "       [  1, 122, 192],\n",
              "       [  1, 125, 220],\n",
              "       [  1, 130, 221],\n",
              "       [  1, 120, 240],\n",
              "       [  1, 132, 342],\n",
              "       [  1, 120, 157],\n",
              "       [  2, 138, 175],\n",
              "       [  2, 138, 175],\n",
              "       [  0, 160, 286],\n",
              "       [  0, 120, 229],\n",
              "       [  0, 140, 268],\n",
              "       [  0, 130, 254],\n",
              "       [  0, 140, 203],\n",
              "       [  2, 130, 256],\n",
              "       [  1, 110, 229],\n",
              "       [  1, 120, 284],\n",
              "       [  2, 132, 224],\n",
              "       [  0, 130, 206],\n",
              "       [  0, 110, 167],\n",
              "       [  0, 117, 230],\n",
              "       [  2, 140, 335],\n",
              "       [  0, 120, 177],\n",
              "       [  0, 150, 276],\n",
              "       [  0, 132, 353],\n",
              "       [  0, 150, 225],\n",
              "       [  0, 130, 330],\n",
              "       [  2, 112, 230],\n",
              "       [  0, 150, 243],\n",
              "       [  0, 112, 290],\n",
              "       [  0, 130, 253],\n",
              "       [  0, 124, 266],\n",
              "       [  2, 140, 233],\n",
              "       [  0, 110, 172],\n",
              "       [  0, 130, 305],\n",
              "       [  0, 128, 216],\n",
              "       [  0, 120, 188],\n",
              "       [  0, 145, 282],\n",
              "       [  2, 140, 185],\n",
              "       [  0, 170, 326],\n",
              "       [  2, 150, 231],\n",
              "       [  0, 125, 254],\n",
              "       [  0, 120, 267],\n",
              "       [  0, 110, 248],\n",
              "       [  0, 110, 197],\n",
              "       [  0, 125, 258],\n",
              "       [  0, 150, 270],\n",
              "       [  2, 180, 274],\n",
              "       [  0, 160, 164],\n",
              "       [  0, 128, 255],\n",
              "       [  0, 110, 239],\n",
              "       [  0, 150, 258],\n",
              "       [  2, 120, 188],\n",
              "       [  0, 140, 177],\n",
              "       [  2, 128, 229],\n",
              "       [  0, 120, 260],\n",
              "       [  0, 118, 219],\n",
              "       [  0, 145, 307],\n",
              "       [  0, 125, 249],\n",
              "       [  0, 132, 341],\n",
              "       [  2, 130, 263],\n",
              "       [  0, 130, 330],\n",
              "       [  0, 135, 254],\n",
              "       [  0, 130, 256],\n",
              "       [  0, 150, 407],\n",
              "       [  0, 140, 217],\n",
              "       [  3, 138, 282],\n",
              "       [  0, 200, 288],\n",
              "       [  0, 110, 239],\n",
              "       [  0, 145, 174],\n",
              "       [  1, 120, 281],\n",
              "       [  0, 120, 198],\n",
              "       [  3, 170, 288],\n",
              "       [  2, 125, 309],\n",
              "       [  2, 108, 243],\n",
              "       [  0, 165, 289],\n",
              "       [  0, 160, 289],\n",
              "       [  0, 120, 246],\n",
              "       [  0, 130, 322],\n",
              "       [  0, 140, 299],\n",
              "       [  0, 125, 300],\n",
              "       [  0, 140, 293],\n",
              "       [  0, 125, 304],\n",
              "       [  0, 126, 282],\n",
              "       [  2, 160, 269],\n",
              "       [  0, 174, 249],\n",
              "       [  0, 145, 212],\n",
              "       [  0, 152, 274],\n",
              "       [  0, 132, 184],\n",
              "       [  0, 124, 274],\n",
              "       [  0, 134, 409],\n",
              "       [  1, 160, 246],\n",
              "       [  1, 192, 283],\n",
              "       [  2, 140, 254],\n",
              "       [  0, 140, 298],\n",
              "       [  0, 132, 247],\n",
              "       [  0, 138, 294],\n",
              "       [  0, 100, 299],\n",
              "       [  3, 160, 273],\n",
              "       [  0, 142, 309],\n",
              "       [  0, 128, 259],\n",
              "       [  0, 144, 200],\n",
              "       [  0, 150, 244],\n",
              "       [  3, 120, 231],\n",
              "       [  0, 178, 228],\n",
              "       [  0, 112, 230],\n",
              "       [  0, 123, 282],\n",
              "       [  0, 108, 269],\n",
              "       [  0, 110, 206],\n",
              "       [  0, 112, 212],\n",
              "       [  0, 180, 327],\n",
              "       [  2, 118, 149],\n",
              "       [  0, 122, 286],\n",
              "       [  0, 130, 283],\n",
              "       [  0, 120, 249],\n",
              "       [  3, 134, 234],\n",
              "       [  0, 120, 237],\n",
              "       [  0, 100, 234],\n",
              "       [  0, 110, 275],\n",
              "       [  0, 125, 212],\n",
              "       [  0, 146, 218],\n",
              "       [  1, 124, 261],\n",
              "       [  1, 136, 319],\n",
              "       [  0, 138, 166],\n",
              "       [  0, 136, 315],\n",
              "       [  0, 128, 204],\n",
              "       [  2, 126, 218],\n",
              "       [  0, 152, 223],\n",
              "       [  0, 140, 207],\n",
              "       [  0, 140, 311],\n",
              "       [  3, 134, 204],\n",
              "       [  1, 154, 232],\n",
              "       [  0, 110, 335],\n",
              "       [  0, 128, 205],\n",
              "       [  0, 148, 203],\n",
              "       [  0, 114, 318],\n",
              "       [  0, 170, 225],\n",
              "       [  2, 152, 212],\n",
              "       [  0, 120, 169],\n",
              "       [  0, 140, 187],\n",
              "       [  0, 124, 197],\n",
              "       [  0, 164, 176],\n",
              "       [  0, 140, 241],\n",
              "       [  3, 110, 264],\n",
              "       [  0, 144, 193],\n",
              "       [  0, 130, 131],\n",
              "       [  1, 130, 236]])"
            ]
          },
          "metadata": {},
          "execution_count": 358
        }
      ]
    },
    {
      "cell_type": "code",
      "source": [
        "#y is always 1 dimensional\n",
        "y = df.iloc[:,6].values\n",
        "y"
      ],
      "metadata": {
        "colab": {
          "base_uri": "https://localhost:8080/"
        },
        "id": "LllYE4shXd2s",
        "outputId": "43a8a714-bb61-45da-bbc8-d09e13b9e68e"
      },
      "execution_count": null,
      "outputs": [
        {
          "output_type": "execute_result",
          "data": {
            "text/plain": [
              "array([1, 0, 0, 0, 0, 0, 0, 0, 1, 0, 0, 0, 0, 0, 1, 0, 0, 0, 0, 0, 0, 0,\n",
              "       0, 1, 0, 0, 1, 0, 1, 1, 0, 0, 0, 0, 0, 0, 1, 0, 0, 0, 0, 0, 0, 0,\n",
              "       0, 0, 0, 0, 0, 0, 0, 0, 0, 0, 0, 0, 0, 0, 0, 0, 1, 0, 0, 0, 1, 0,\n",
              "       0, 0, 0, 0, 0, 0, 0, 0, 0, 0, 1, 0, 1, 0, 0, 0, 0, 1, 0, 0, 0, 1,\n",
              "       0, 0, 1, 0, 0, 1, 0, 0, 0, 1, 0, 1, 0, 0, 0, 1, 0, 0, 1, 0, 0, 0,\n",
              "       0, 1, 0, 0, 0, 0, 0, 0, 0, 0, 0, 0, 0, 0, 0, 0, 0, 0, 0, 0, 0, 0,\n",
              "       0, 0, 0, 0, 1, 1, 0, 0, 0, 0, 0, 0, 0, 0, 0, 0, 0, 0, 0, 0, 0, 0,\n",
              "       0, 0, 0, 0, 0, 0, 0, 0, 0, 0, 0, 0, 0, 0, 0, 1, 1, 0, 0, 0, 0, 0,\n",
              "       1, 0, 0, 0, 0, 0, 0, 0, 0, 0, 0, 0, 0, 0, 0, 0, 0, 0, 0, 0, 0, 1,\n",
              "       0, 0, 0, 0, 0, 1, 0, 0, 0, 0, 0, 0, 0, 0, 0, 0, 1, 1, 0, 1, 0, 1,\n",
              "       0, 0, 1, 1, 0, 0, 0, 0, 0, 0, 0, 1, 0, 0, 0, 0, 0, 0, 0, 0, 0, 0,\n",
              "       0, 0, 0, 0, 0, 0, 0, 0, 0, 1, 1, 0, 0, 0, 0, 0, 0, 0, 1, 0, 0, 0,\n",
              "       0, 0, 0, 0, 0, 1, 0, 0, 0, 0, 0, 0, 0, 0, 1, 0, 0, 1, 1, 0, 0, 0,\n",
              "       0, 0, 0, 0, 0, 0, 1, 0, 0, 0, 0, 1, 0, 0, 1, 0, 0])"
            ]
          },
          "metadata": {},
          "execution_count": 359
        }
      ]
    },
    {
      "cell_type": "code",
      "source": [
        "#5.Train and Test Variables\n",
        "from sklearn.model_selection import train_test_split\n",
        "x_train,x_test,y_train,y_test = train_test_split(x,y,random_state = 0)"
      ],
      "metadata": {
        "id": "A5n_i3O7Xj1R"
      },
      "execution_count": null,
      "outputs": []
    },
    {
      "cell_type": "code",
      "source": [
        "print(x.shape) #100%\n",
        "print(x_train.shape) #75%\n",
        "print(x_test.shape) #25%"
      ],
      "metadata": {
        "colab": {
          "base_uri": "https://localhost:8080/"
        },
        "id": "Mg4iJ-AxXwPl",
        "outputId": "0b839672-5417-4a97-b3ae-a60007cdff81"
      },
      "execution_count": null,
      "outputs": [
        {
          "output_type": "stream",
          "name": "stdout",
          "text": [
            "(303, 3)\n",
            "(227, 3)\n",
            "(76, 3)\n"
          ]
        }
      ]
    },
    {
      "cell_type": "code",
      "source": [
        "print(y.shape) # 100%\n",
        "print(y_train.shape) #75%\n",
        "print(y_test.shape)#25%"
      ],
      "metadata": {
        "colab": {
          "base_uri": "https://localhost:8080/"
        },
        "id": "r8n0IbG3X09e",
        "outputId": "141c348f-83ea-44a7-ad85-bf31d4c0fe57"
      },
      "execution_count": null,
      "outputs": [
        {
          "output_type": "stream",
          "name": "stdout",
          "text": [
            "(303,)\n",
            "(227,)\n",
            "(76,)\n"
          ]
        }
      ]
    },
    {
      "cell_type": "code",
      "source": [
        "#6.NORMALIZATION/SCALING (DONE ONLY FOR INPUTS)\n",
        "from sklearn.preprocessing import MinMaxScaler\n",
        "scaler = MinMaxScaler()\n",
        "x_train = scaler.fit_transform(x_train)\n",
        "x_test = scaler.fit_transform(x_test)"
      ],
      "metadata": {
        "id": "-SkbWZayX6I5"
      },
      "execution_count": null,
      "outputs": []
    },
    {
      "cell_type": "code",
      "source": [
        "#7.apply a CLASSIFIER,regressor or clusterer\n",
        "from sklearn.linear_model import LogisticRegression\n",
        "model = LogisticRegression()"
      ],
      "metadata": {
        "id": "jtUyc8vhX-Ls"
      },
      "execution_count": null,
      "outputs": []
    },
    {
      "cell_type": "code",
      "source": [
        "#8.Fit the model\n",
        "model.fit(x_train,y_train) # using the training variables , we train the model"
      ],
      "metadata": {
        "colab": {
          "base_uri": "https://localhost:8080/",
          "height": 75
        },
        "id": "hHJ6HTY4YCmE",
        "outputId": "140b1e05-1e4a-4418-86dc-a3fcb2e55c43"
      },
      "execution_count": null,
      "outputs": [
        {
          "output_type": "execute_result",
          "data": {
            "text/plain": [
              "LogisticRegression()"
            ],
            "text/html": [
              "<style>#sk-container-id-7 {color: black;background-color: white;}#sk-container-id-7 pre{padding: 0;}#sk-container-id-7 div.sk-toggleable {background-color: white;}#sk-container-id-7 label.sk-toggleable__label {cursor: pointer;display: block;width: 100%;margin-bottom: 0;padding: 0.3em;box-sizing: border-box;text-align: center;}#sk-container-id-7 label.sk-toggleable__label-arrow:before {content: \"▸\";float: left;margin-right: 0.25em;color: #696969;}#sk-container-id-7 label.sk-toggleable__label-arrow:hover:before {color: black;}#sk-container-id-7 div.sk-estimator:hover label.sk-toggleable__label-arrow:before {color: black;}#sk-container-id-7 div.sk-toggleable__content {max-height: 0;max-width: 0;overflow: hidden;text-align: left;background-color: #f0f8ff;}#sk-container-id-7 div.sk-toggleable__content pre {margin: 0.2em;color: black;border-radius: 0.25em;background-color: #f0f8ff;}#sk-container-id-7 input.sk-toggleable__control:checked~div.sk-toggleable__content {max-height: 200px;max-width: 100%;overflow: auto;}#sk-container-id-7 input.sk-toggleable__control:checked~label.sk-toggleable__label-arrow:before {content: \"▾\";}#sk-container-id-7 div.sk-estimator input.sk-toggleable__control:checked~label.sk-toggleable__label {background-color: #d4ebff;}#sk-container-id-7 div.sk-label input.sk-toggleable__control:checked~label.sk-toggleable__label {background-color: #d4ebff;}#sk-container-id-7 input.sk-hidden--visually {border: 0;clip: rect(1px 1px 1px 1px);clip: rect(1px, 1px, 1px, 1px);height: 1px;margin: -1px;overflow: hidden;padding: 0;position: absolute;width: 1px;}#sk-container-id-7 div.sk-estimator {font-family: monospace;background-color: #f0f8ff;border: 1px dotted black;border-radius: 0.25em;box-sizing: border-box;margin-bottom: 0.5em;}#sk-container-id-7 div.sk-estimator:hover {background-color: #d4ebff;}#sk-container-id-7 div.sk-parallel-item::after {content: \"\";width: 100%;border-bottom: 1px solid gray;flex-grow: 1;}#sk-container-id-7 div.sk-label:hover label.sk-toggleable__label {background-color: #d4ebff;}#sk-container-id-7 div.sk-serial::before {content: \"\";position: absolute;border-left: 1px solid gray;box-sizing: border-box;top: 0;bottom: 0;left: 50%;z-index: 0;}#sk-container-id-7 div.sk-serial {display: flex;flex-direction: column;align-items: center;background-color: white;padding-right: 0.2em;padding-left: 0.2em;position: relative;}#sk-container-id-7 div.sk-item {position: relative;z-index: 1;}#sk-container-id-7 div.sk-parallel {display: flex;align-items: stretch;justify-content: center;background-color: white;position: relative;}#sk-container-id-7 div.sk-item::before, #sk-container-id-7 div.sk-parallel-item::before {content: \"\";position: absolute;border-left: 1px solid gray;box-sizing: border-box;top: 0;bottom: 0;left: 50%;z-index: -1;}#sk-container-id-7 div.sk-parallel-item {display: flex;flex-direction: column;z-index: 1;position: relative;background-color: white;}#sk-container-id-7 div.sk-parallel-item:first-child::after {align-self: flex-end;width: 50%;}#sk-container-id-7 div.sk-parallel-item:last-child::after {align-self: flex-start;width: 50%;}#sk-container-id-7 div.sk-parallel-item:only-child::after {width: 0;}#sk-container-id-7 div.sk-dashed-wrapped {border: 1px dashed gray;margin: 0 0.4em 0.5em 0.4em;box-sizing: border-box;padding-bottom: 0.4em;background-color: white;}#sk-container-id-7 div.sk-label label {font-family: monospace;font-weight: bold;display: inline-block;line-height: 1.2em;}#sk-container-id-7 div.sk-label-container {text-align: center;}#sk-container-id-7 div.sk-container {/* jupyter's `normalize.less` sets `[hidden] { display: none; }` but bootstrap.min.css set `[hidden] { display: none !important; }` so we also need the `!important` here to be able to override the default hidden behavior on the sphinx rendered scikit-learn.org. See: https://github.com/scikit-learn/scikit-learn/issues/21755 */display: inline-block !important;position: relative;}#sk-container-id-7 div.sk-text-repr-fallback {display: none;}</style><div id=\"sk-container-id-7\" class=\"sk-top-container\"><div class=\"sk-text-repr-fallback\"><pre>LogisticRegression()</pre><b>In a Jupyter environment, please rerun this cell to show the HTML representation or trust the notebook. <br />On GitHub, the HTML representation is unable to render, please try loading this page with nbviewer.org.</b></div><div class=\"sk-container\" hidden><div class=\"sk-item\"><div class=\"sk-estimator sk-toggleable\"><input class=\"sk-toggleable__control sk-hidden--visually\" id=\"sk-estimator-id-7\" type=\"checkbox\" checked><label for=\"sk-estimator-id-7\" class=\"sk-toggleable__label sk-toggleable__label-arrow\">LogisticRegression</label><div class=\"sk-toggleable__content\"><pre>LogisticRegression()</pre></div></div></div></div></div>"
            ]
          },
          "metadata": {},
          "execution_count": 365
        }
      ]
    },
    {
      "cell_type": "code",
      "source": [
        "#9.Predict the output\n",
        "y_pred = model.predict(x_test)\n",
        "y_pred\n",
        "#PREDICTED OUTPUT VALUES"
      ],
      "metadata": {
        "colab": {
          "base_uri": "https://localhost:8080/"
        },
        "id": "xSC7MKkGYHGx",
        "outputId": "63a1926b-a71b-4d53-e9b3-cfac6e8f0f1a"
      },
      "execution_count": null,
      "outputs": [
        {
          "output_type": "execute_result",
          "data": {
            "text/plain": [
              "array([0, 0, 0, 0, 0, 0, 0, 0, 0, 0, 0, 0, 0, 0, 0, 0, 0, 0, 0, 0, 0, 0,\n",
              "       0, 0, 0, 0, 0, 0, 0, 0, 0, 0, 0, 0, 0, 0, 0, 0, 0, 0, 0, 0, 0, 0,\n",
              "       0, 0, 0, 0, 0, 0, 0, 0, 0, 0, 0, 0, 0, 0, 0, 0, 0, 0, 0, 0, 0, 0,\n",
              "       0, 0, 0, 0, 0, 0, 0, 0, 0, 0])"
            ]
          },
          "metadata": {},
          "execution_count": 366
        }
      ]
    },
    {
      "cell_type": "code",
      "source": [
        "y_test #ACTUAL OUTPUT VALUES"
      ],
      "metadata": {
        "colab": {
          "base_uri": "https://localhost:8080/"
        },
        "id": "SVXiEzBeYKva",
        "outputId": "3b965903-974a-4fdf-bcb5-e67fc7978fce"
      },
      "execution_count": null,
      "outputs": [
        {
          "output_type": "execute_result",
          "data": {
            "text/plain": [
              "array([0, 0, 0, 0, 0, 0, 0, 0, 1, 1, 1, 0, 0, 0, 0, 0, 1, 1, 0, 1, 0, 0,\n",
              "       0, 0, 0, 0, 0, 0, 0, 0, 0, 0, 0, 1, 0, 0, 0, 0, 1, 0, 0, 0, 0, 0,\n",
              "       0, 0, 0, 0, 0, 0, 0, 0, 0, 0, 0, 0, 0, 0, 1, 0, 0, 0, 0, 1, 0, 0,\n",
              "       0, 0, 0, 0, 0, 0, 0, 0, 0, 0])"
            ]
          },
          "metadata": {},
          "execution_count": 367
        }
      ]
    },
    {
      "cell_type": "code",
      "source": [
        "#10.Accuracy\n",
        "from sklearn.metrics import accuracy_score\n",
        "accuracy_score(y_pred,y_test)* 100"
      ],
      "metadata": {
        "colab": {
          "base_uri": "https://localhost:8080/"
        },
        "id": "Bi1tnWQVYQAy",
        "outputId": "59764f2c-e366-4c64-8b32-3c05fedd5a6f"
      },
      "execution_count": null,
      "outputs": [
        {
          "output_type": "execute_result",
          "data": {
            "text/plain": [
              "86.8421052631579"
            ]
          },
          "metadata": {},
          "execution_count": 368
        }
      ]
    }
  ]
}